{
 "cells": [
  {
   "cell_type": "code",
   "execution_count": 2,
   "metadata": {},
   "outputs": [
    {
     "name": "stdout",
     "output_type": "stream",
     "text": [
      "Latitude:37.3888052\n",
      "Longitude:-121.9308509\n",
      "Formatted Address:2711 N 1st St, San Jose, CA 95134, USA\n"
     ]
    }
   ],
   "source": [
    "# importing the requests library\n",
    "import requests\n",
    "\n",
    "# api-endpoint\n",
    "URL = \"http://maps.googleapis.com/maps/api/geocode/json\"\n",
    "\n",
    "# location given here\n",
    "location = \"delhi technological university\"\n",
    "\n",
    "# defining a params dict for the parameters to be sent to the API\n",
    "PARAMS = {'address':location}\n",
    "\n",
    "# sending get request and saving the response as response object\n",
    "r = requests.get(url = URL, params = PARAMS)\n",
    "\n",
    "# extracting data in json format\n",
    "data = r.json()\n",
    "\n",
    "\n",
    "# extracting latitude, longitude and formatted address \n",
    "# of the first matching location\n",
    "latitude = data['results'][0]['geometry']['location']['lat']\n",
    "longitude = data['results'][0]['geometry']['location']['lng']\n",
    "formatted_address = data['results'][0]['formatted_address']\n",
    "\n",
    "# printing the output\n",
    "print(\"Latitude:%s\\nLongitude:%s\\nFormatted Address:%s\"\n",
    "\t%(latitude, longitude,formatted_address))\n"
   ]
  },
  {
   "cell_type": "code",
   "execution_count": 3,
   "metadata": {},
   "outputs": [
    {
     "name": "stdout",
     "output_type": "stream",
     "text": [
      "{'results': [{'address_components': [{'long_name': '2711', 'short_name': '2711', 'types': ['street_number']}, {'long_name': 'North 1st Street', 'short_name': 'N 1st St', 'types': ['route']}, {'long_name': 'North San Jose', 'short_name': 'North San Jose', 'types': ['neighborhood', 'political']}, {'long_name': 'San Jose', 'short_name': 'San Jose', 'types': ['locality', 'political']}, {'long_name': 'Santa Clara County', 'short_name': 'Santa Clara County', 'types': ['administrative_area_level_2', 'political']}, {'long_name': 'California', 'short_name': 'CA', 'types': ['administrative_area_level_1', 'political']}, {'long_name': 'United States', 'short_name': 'US', 'types': ['country', 'political']}, {'long_name': '95134', 'short_name': '95134', 'types': ['postal_code']}], 'formatted_address': '2711 N 1st St, San Jose, CA 95134, USA', 'geometry': {'location': {'lat': 37.3888052, 'lng': -121.9308509}, 'location_type': 'ROOFTOP', 'viewport': {'northeast': {'lat': 37.3901541802915, 'lng': -121.9295019197085}, 'southwest': {'lat': 37.3874562197085, 'lng': -121.9321998802915}}}, 'place_id': 'ChIJWw4GHKTMj4AR0RD8L8FL8Nk', 'plus_code': {'compound_code': '93Q9+GM San Jose, California, United States', 'global_code': '849W93Q9+GM'}, 'types': ['establishment', 'point_of_interest', 'university']}, {'address_components': [{'long_name': 'Delhi', 'short_name': 'Delhi', 'types': ['locality', 'political']}, {'long_name': 'Delhi', 'short_name': 'DL', 'types': ['administrative_area_level_1', 'political']}, {'long_name': 'India', 'short_name': 'IN', 'types': ['country', 'political']}, {'long_name': '110042', 'short_name': '110042', 'types': ['postal_code']}], 'formatted_address': 'Shahbad Daulatpur, Main Bawana Road, Delhi, 110042, India', 'geometry': {'location': {'lat': 28.7500749, 'lng': 77.11766519999999}, 'location_type': 'GEOMETRIC_CENTER', 'viewport': {'northeast': {'lat': 28.7514238802915, 'lng': 77.11901418029149}, 'southwest': {'lat': 28.7487259197085, 'lng': 77.11631621970848}}}, 'place_id': 'ChIJZclnKiEBDTkRsNEwHMpw1Ic', 'plus_code': {'compound_code': 'Q429+23 Delhi, India', 'global_code': '7JWVQ429+23'}, 'types': ['establishment', 'point_of_interest', 'university']}], 'status': 'OK'}\n"
     ]
    }
   ],
   "source": [
    "print(data)"
   ]
  },
  {
   "cell_type": "code",
   "execution_count": null,
   "metadata": {},
   "outputs": [],
   "source": []
  }
 ],
 "metadata": {
  "kernelspec": {
   "display_name": "Python 3",
   "language": "python",
   "name": "python3"
  },
  "language_info": {
   "codemirror_mode": {
    "name": "ipython",
    "version": 3
   },
   "file_extension": ".py",
   "mimetype": "text/x-python",
   "name": "python",
   "nbconvert_exporter": "python",
   "pygments_lexer": "ipython3",
   "version": "3.7.0"
  }
 },
 "nbformat": 4,
 "nbformat_minor": 2
}
